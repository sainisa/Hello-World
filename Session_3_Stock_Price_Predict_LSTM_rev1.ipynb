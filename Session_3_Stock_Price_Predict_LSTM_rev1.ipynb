{
  "cells": [
    {
      "cell_type": "markdown",
      "source": [
        "# Contents\n",
        "\n",
        "\n",
        "1. Problem Difinition\n",
        "2. LSTM model\n",
        "3. Result discussion\n",
        "\n"
      ],
      "metadata": {
        "id": "yKFbf2iqEtR0"
      },
      "id": "yKFbf2iqEtR0"
    },
    {
      "cell_type": "markdown",
      "id": "9b0f40ad",
      "metadata": {
        "id": "9b0f40ad"
      },
      "source": [
        "## Problem Definition: Can we predict the stock price?\n",
        "\n",
        "Another way of stating the question: is the stock price movement a random walk?\n",
        "\n",
        "\n"
      ]
    },
    {
      "cell_type": "markdown",
      "id": "f10e89e0",
      "metadata": {
        "id": "f10e89e0"
      },
      "source": [
        "## Long Short Term Memory\n",
        "\n",
        "You can read the article explaining how LSTM works [here](https://colah.github.io/posts/2015-08-Understanding-LSTMs/)\n"
      ]
    },
    {
      "cell_type": "code",
      "source": [
        "# enable and detect GPU\n",
        "\n",
        "import tensorflow as tf\n",
        "\n",
        "print(\"Num GPUs Available: \", len(tf.config.list_physical_devices('GPU')))\n",
        "\n",
        "if tf.config.list_physical_devices('GPU'):\n",
        "    print('Default GPU Device: {}'.format(tf.test.gpu_device_name()))\n",
        "else:\n",
        "    print(\"GPU not found. Make sure the GPU device is correctly configured.\")"
      ],
      "metadata": {
        "colab": {
          "base_uri": "https://localhost:8080/"
        },
        "id": "E8AEO188N7zi",
        "outputId": "386a7275-6150-4b0d-d8cc-50e0969bcb44"
      },
      "id": "E8AEO188N7zi",
      "execution_count": null,
      "outputs": [
        {
          "output_type": "stream",
          "name": "stdout",
          "text": [
            "Num GPUs Available:  1\n",
            "Default GPU Device: /device:GPU:0\n"
          ]
        }
      ]
    },
    {
      "cell_type": "markdown",
      "id": "4656e33e",
      "metadata": {
        "id": "4656e33e"
      },
      "source": [
        "1. Import the libraries"
      ]
    },
    {
      "cell_type": "code",
      "execution_count": null,
      "id": "db4c5bc3",
      "metadata": {
        "id": "db4c5bc3"
      },
      "outputs": [],
      "source": [
        "import numpy as np\n",
        "import pandas as pd\n",
        "import matplotlib.pyplot as plt\n",
        "\n",
        "import math\n",
        "\n",
        "import pandas_datareader as web\n",
        "from sklearn.preprocessing import MinMaxScaler\n",
        "from keras.models import Sequential\n",
        "from keras.layers import Dense, LSTM\n"
      ]
    },
    {
      "cell_type": "markdown",
      "id": "c9e5e775",
      "metadata": {
        "id": "c9e5e775"
      },
      "source": [
        "2. Download the data from yahoo. We use ANZN"
      ]
    },
    {
      "cell_type": "code",
      "source": [
        "import importlib.util\n",
        "package_name = 'yfinance'\n",
        "spec = importlib.util.find_spec(package_name)\n",
        "if spec is None:\n",
        "    print(package_name +\" is not installed\")\n",
        "    !pip install yfinance\n",
        "\n",
        "import yfinance as yf\n",
        "df=yf.download(['AMZN', 'GOOG'], start='2012-01-01', end='2023-02-10')\n",
        "\n",
        "df"
      ],
      "metadata": {
        "colab": {
          "base_uri": "https://localhost:8080/",
          "height": 538
        },
        "id": "Am_M8Sa8V3tN",
        "outputId": "197a0e3c-be00-4c4a-cbc8-02180226f8bf"
      },
      "id": "Am_M8Sa8V3tN",
      "execution_count": null,
      "outputs": [
        {
          "output_type": "stream",
          "name": "stderr",
          "text": [
            "/tmp/ipython-input-4091278394.py:9: FutureWarning: YF.download() has changed argument auto_adjust default to True\n",
            "  df=yf.download(['AMZN', 'GOOG'], start='2012-01-01', end='2023-02-10')\n",
            "[*********************100%***********************]  2 of 2 completed\n"
          ]
        },
        {
          "output_type": "execute_result",
          "data": {
            "text/plain": [
              "Price            Close                    High                     Low  \\\n",
              "Ticker            AMZN        GOOG        AMZN        GOOG        AMZN   \n",
              "Date                                                                     \n",
              "2012-01-03    8.951500   16.460485    8.974000   16.528267    8.777500   \n",
              "2012-01-04    8.875500   16.531481    9.025000   16.580214    8.803500   \n",
              "2012-01-05    8.880500   16.302164    8.912500   16.424861    8.702500   \n",
              "2012-01-06    9.130500   16.079781    9.232500   16.326659    8.875000   \n",
              "2012-01-09    8.928000   15.398017    9.218500   16.005073    8.850000   \n",
              "...                ...         ...         ...         ...         ...   \n",
              "2023-02-03  103.389999  104.504845  108.779999  107.285809  102.519997   \n",
              "2023-02-06  102.180000  102.766747  103.949997  103.988382  100.650002   \n",
              "2023-02-07  102.110001  107.305679  102.410004  107.931395   98.080002   \n",
              "2023-02-08  100.050003   99.320328  102.669998  102.875997   98.779999   \n",
              "2023-02-09   98.239998   94.811180  101.779999   99.926178   97.570000   \n",
              "\n",
              "Price                         Open                 Volume             \n",
              "Ticker            GOOG        AMZN        GOOG       AMZN       GOOG  \n",
              "Date                                                                  \n",
              "2012-01-03   16.137910    8.794500   16.152011  102216000  147611217  \n",
              "2012-01-04   16.341993    8.960500   16.451085   84104000  114989399  \n",
              "2012-01-05   16.233394    8.797000   16.379345   76182000  131808205  \n",
              "2012-01-06   16.074090    8.903500   16.305631  140168000  108119746  \n",
              "2012-01-09   15.367589    9.138000   15.992702  101138000  233776981  \n",
              "...                ...         ...         ...        ...        ...  \n",
              "2023-02-03  102.597896  105.260002  102.806468  144374800   36823400  \n",
              "2023-02-06  101.515308  102.930000  101.987078   81945200   25573000  \n",
              "2023-02-07  102.844206  101.169998  102.925649  119501300   33738800  \n",
              "2023-02-08   97.785831  102.040001  101.992047   75878300   73546000  \n",
              "2023-02-09   93.222056  101.320000   99.856654   64622500   97798600  \n",
              "\n",
              "[2795 rows x 10 columns]"
            ],
            "text/html": [
              "\n",
              "  <div id=\"df-624ba5f4-2f2c-41e1-85b9-128ee19ff5eb\" class=\"colab-df-container\">\n",
              "    <div>\n",
              "<style scoped>\n",
              "    .dataframe tbody tr th:only-of-type {\n",
              "        vertical-align: middle;\n",
              "    }\n",
              "\n",
              "    .dataframe tbody tr th {\n",
              "        vertical-align: top;\n",
              "    }\n",
              "\n",
              "    .dataframe thead tr th {\n",
              "        text-align: left;\n",
              "    }\n",
              "\n",
              "    .dataframe thead tr:last-of-type th {\n",
              "        text-align: right;\n",
              "    }\n",
              "</style>\n",
              "<table border=\"1\" class=\"dataframe\">\n",
              "  <thead>\n",
              "    <tr>\n",
              "      <th>Price</th>\n",
              "      <th colspan=\"2\" halign=\"left\">Close</th>\n",
              "      <th colspan=\"2\" halign=\"left\">High</th>\n",
              "      <th colspan=\"2\" halign=\"left\">Low</th>\n",
              "      <th colspan=\"2\" halign=\"left\">Open</th>\n",
              "      <th colspan=\"2\" halign=\"left\">Volume</th>\n",
              "    </tr>\n",
              "    <tr>\n",
              "      <th>Ticker</th>\n",
              "      <th>AMZN</th>\n",
              "      <th>GOOG</th>\n",
              "      <th>AMZN</th>\n",
              "      <th>GOOG</th>\n",
              "      <th>AMZN</th>\n",
              "      <th>GOOG</th>\n",
              "      <th>AMZN</th>\n",
              "      <th>GOOG</th>\n",
              "      <th>AMZN</th>\n",
              "      <th>GOOG</th>\n",
              "    </tr>\n",
              "    <tr>\n",
              "      <th>Date</th>\n",
              "      <th></th>\n",
              "      <th></th>\n",
              "      <th></th>\n",
              "      <th></th>\n",
              "      <th></th>\n",
              "      <th></th>\n",
              "      <th></th>\n",
              "      <th></th>\n",
              "      <th></th>\n",
              "      <th></th>\n",
              "    </tr>\n",
              "  </thead>\n",
              "  <tbody>\n",
              "    <tr>\n",
              "      <th>2012-01-03</th>\n",
              "      <td>8.951500</td>\n",
              "      <td>16.460485</td>\n",
              "      <td>8.974000</td>\n",
              "      <td>16.528267</td>\n",
              "      <td>8.777500</td>\n",
              "      <td>16.137910</td>\n",
              "      <td>8.794500</td>\n",
              "      <td>16.152011</td>\n",
              "      <td>102216000</td>\n",
              "      <td>147611217</td>\n",
              "    </tr>\n",
              "    <tr>\n",
              "      <th>2012-01-04</th>\n",
              "      <td>8.875500</td>\n",
              "      <td>16.531481</td>\n",
              "      <td>9.025000</td>\n",
              "      <td>16.580214</td>\n",
              "      <td>8.803500</td>\n",
              "      <td>16.341993</td>\n",
              "      <td>8.960500</td>\n",
              "      <td>16.451085</td>\n",
              "      <td>84104000</td>\n",
              "      <td>114989399</td>\n",
              "    </tr>\n",
              "    <tr>\n",
              "      <th>2012-01-05</th>\n",
              "      <td>8.880500</td>\n",
              "      <td>16.302164</td>\n",
              "      <td>8.912500</td>\n",
              "      <td>16.424861</td>\n",
              "      <td>8.702500</td>\n",
              "      <td>16.233394</td>\n",
              "      <td>8.797000</td>\n",
              "      <td>16.379345</td>\n",
              "      <td>76182000</td>\n",
              "      <td>131808205</td>\n",
              "    </tr>\n",
              "    <tr>\n",
              "      <th>2012-01-06</th>\n",
              "      <td>9.130500</td>\n",
              "      <td>16.079781</td>\n",
              "      <td>9.232500</td>\n",
              "      <td>16.326659</td>\n",
              "      <td>8.875000</td>\n",
              "      <td>16.074090</td>\n",
              "      <td>8.903500</td>\n",
              "      <td>16.305631</td>\n",
              "      <td>140168000</td>\n",
              "      <td>108119746</td>\n",
              "    </tr>\n",
              "    <tr>\n",
              "      <th>2012-01-09</th>\n",
              "      <td>8.928000</td>\n",
              "      <td>15.398017</td>\n",
              "      <td>9.218500</td>\n",
              "      <td>16.005073</td>\n",
              "      <td>8.850000</td>\n",
              "      <td>15.367589</td>\n",
              "      <td>9.138000</td>\n",
              "      <td>15.992702</td>\n",
              "      <td>101138000</td>\n",
              "      <td>233776981</td>\n",
              "    </tr>\n",
              "    <tr>\n",
              "      <th>...</th>\n",
              "      <td>...</td>\n",
              "      <td>...</td>\n",
              "      <td>...</td>\n",
              "      <td>...</td>\n",
              "      <td>...</td>\n",
              "      <td>...</td>\n",
              "      <td>...</td>\n",
              "      <td>...</td>\n",
              "      <td>...</td>\n",
              "      <td>...</td>\n",
              "    </tr>\n",
              "    <tr>\n",
              "      <th>2023-02-03</th>\n",
              "      <td>103.389999</td>\n",
              "      <td>104.504845</td>\n",
              "      <td>108.779999</td>\n",
              "      <td>107.285809</td>\n",
              "      <td>102.519997</td>\n",
              "      <td>102.597896</td>\n",
              "      <td>105.260002</td>\n",
              "      <td>102.806468</td>\n",
              "      <td>144374800</td>\n",
              "      <td>36823400</td>\n",
              "    </tr>\n",
              "    <tr>\n",
              "      <th>2023-02-06</th>\n",
              "      <td>102.180000</td>\n",
              "      <td>102.766747</td>\n",
              "      <td>103.949997</td>\n",
              "      <td>103.988382</td>\n",
              "      <td>100.650002</td>\n",
              "      <td>101.515308</td>\n",
              "      <td>102.930000</td>\n",
              "      <td>101.987078</td>\n",
              "      <td>81945200</td>\n",
              "      <td>25573000</td>\n",
              "    </tr>\n",
              "    <tr>\n",
              "      <th>2023-02-07</th>\n",
              "      <td>102.110001</td>\n",
              "      <td>107.305679</td>\n",
              "      <td>102.410004</td>\n",
              "      <td>107.931395</td>\n",
              "      <td>98.080002</td>\n",
              "      <td>102.844206</td>\n",
              "      <td>101.169998</td>\n",
              "      <td>102.925649</td>\n",
              "      <td>119501300</td>\n",
              "      <td>33738800</td>\n",
              "    </tr>\n",
              "    <tr>\n",
              "      <th>2023-02-08</th>\n",
              "      <td>100.050003</td>\n",
              "      <td>99.320328</td>\n",
              "      <td>102.669998</td>\n",
              "      <td>102.875997</td>\n",
              "      <td>98.779999</td>\n",
              "      <td>97.785831</td>\n",
              "      <td>102.040001</td>\n",
              "      <td>101.992047</td>\n",
              "      <td>75878300</td>\n",
              "      <td>73546000</td>\n",
              "    </tr>\n",
              "    <tr>\n",
              "      <th>2023-02-09</th>\n",
              "      <td>98.239998</td>\n",
              "      <td>94.811180</td>\n",
              "      <td>101.779999</td>\n",
              "      <td>99.926178</td>\n",
              "      <td>97.570000</td>\n",
              "      <td>93.222056</td>\n",
              "      <td>101.320000</td>\n",
              "      <td>99.856654</td>\n",
              "      <td>64622500</td>\n",
              "      <td>97798600</td>\n",
              "    </tr>\n",
              "  </tbody>\n",
              "</table>\n",
              "<p>2795 rows × 10 columns</p>\n",
              "</div>\n",
              "    <div class=\"colab-df-buttons\">\n",
              "\n",
              "  <div class=\"colab-df-container\">\n",
              "    <button class=\"colab-df-convert\" onclick=\"convertToInteractive('df-624ba5f4-2f2c-41e1-85b9-128ee19ff5eb')\"\n",
              "            title=\"Convert this dataframe to an interactive table.\"\n",
              "            style=\"display:none;\">\n",
              "\n",
              "  <svg xmlns=\"http://www.w3.org/2000/svg\" height=\"24px\" viewBox=\"0 -960 960 960\">\n",
              "    <path d=\"M120-120v-720h720v720H120Zm60-500h600v-160H180v160Zm220 220h160v-160H400v160Zm0 220h160v-160H400v160ZM180-400h160v-160H180v160Zm440 0h160v-160H620v160ZM180-180h160v-160H180v160Zm440 0h160v-160H620v160Z\"/>\n",
              "  </svg>\n",
              "    </button>\n",
              "\n",
              "  <style>\n",
              "    .colab-df-container {\n",
              "      display:flex;\n",
              "      gap: 12px;\n",
              "    }\n",
              "\n",
              "    .colab-df-convert {\n",
              "      background-color: #E8F0FE;\n",
              "      border: none;\n",
              "      border-radius: 50%;\n",
              "      cursor: pointer;\n",
              "      display: none;\n",
              "      fill: #1967D2;\n",
              "      height: 32px;\n",
              "      padding: 0 0 0 0;\n",
              "      width: 32px;\n",
              "    }\n",
              "\n",
              "    .colab-df-convert:hover {\n",
              "      background-color: #E2EBFA;\n",
              "      box-shadow: 0px 1px 2px rgba(60, 64, 67, 0.3), 0px 1px 3px 1px rgba(60, 64, 67, 0.15);\n",
              "      fill: #174EA6;\n",
              "    }\n",
              "\n",
              "    .colab-df-buttons div {\n",
              "      margin-bottom: 4px;\n",
              "    }\n",
              "\n",
              "    [theme=dark] .colab-df-convert {\n",
              "      background-color: #3B4455;\n",
              "      fill: #D2E3FC;\n",
              "    }\n",
              "\n",
              "    [theme=dark] .colab-df-convert:hover {\n",
              "      background-color: #434B5C;\n",
              "      box-shadow: 0px 1px 3px 1px rgba(0, 0, 0, 0.15);\n",
              "      filter: drop-shadow(0px 1px 2px rgba(0, 0, 0, 0.3));\n",
              "      fill: #FFFFFF;\n",
              "    }\n",
              "  </style>\n",
              "\n",
              "    <script>\n",
              "      const buttonEl =\n",
              "        document.querySelector('#df-624ba5f4-2f2c-41e1-85b9-128ee19ff5eb button.colab-df-convert');\n",
              "      buttonEl.style.display =\n",
              "        google.colab.kernel.accessAllowed ? 'block' : 'none';\n",
              "\n",
              "      async function convertToInteractive(key) {\n",
              "        const element = document.querySelector('#df-624ba5f4-2f2c-41e1-85b9-128ee19ff5eb');\n",
              "        const dataTable =\n",
              "          await google.colab.kernel.invokeFunction('convertToInteractive',\n",
              "                                                    [key], {});\n",
              "        if (!dataTable) return;\n",
              "\n",
              "        const docLinkHtml = 'Like what you see? Visit the ' +\n",
              "          '<a target=\"_blank\" href=https://colab.research.google.com/notebooks/data_table.ipynb>data table notebook</a>'\n",
              "          + ' to learn more about interactive tables.';\n",
              "        element.innerHTML = '';\n",
              "        dataTable['output_type'] = 'display_data';\n",
              "        await google.colab.output.renderOutput(dataTable, element);\n",
              "        const docLink = document.createElement('div');\n",
              "        docLink.innerHTML = docLinkHtml;\n",
              "        element.appendChild(docLink);\n",
              "      }\n",
              "    </script>\n",
              "  </div>\n",
              "\n",
              "\n",
              "    <div id=\"df-82107106-dd33-4087-bb82-d237527741a3\">\n",
              "      <button class=\"colab-df-quickchart\" onclick=\"quickchart('df-82107106-dd33-4087-bb82-d237527741a3')\"\n",
              "                title=\"Suggest charts\"\n",
              "                style=\"display:none;\">\n",
              "\n",
              "<svg xmlns=\"http://www.w3.org/2000/svg\" height=\"24px\"viewBox=\"0 0 24 24\"\n",
              "     width=\"24px\">\n",
              "    <g>\n",
              "        <path d=\"M19 3H5c-1.1 0-2 .9-2 2v14c0 1.1.9 2 2 2h14c1.1 0 2-.9 2-2V5c0-1.1-.9-2-2-2zM9 17H7v-7h2v7zm4 0h-2V7h2v10zm4 0h-2v-4h2v4z\"/>\n",
              "    </g>\n",
              "</svg>\n",
              "      </button>\n",
              "\n",
              "<style>\n",
              "  .colab-df-quickchart {\n",
              "      --bg-color: #E8F0FE;\n",
              "      --fill-color: #1967D2;\n",
              "      --hover-bg-color: #E2EBFA;\n",
              "      --hover-fill-color: #174EA6;\n",
              "      --disabled-fill-color: #AAA;\n",
              "      --disabled-bg-color: #DDD;\n",
              "  }\n",
              "\n",
              "  [theme=dark] .colab-df-quickchart {\n",
              "      --bg-color: #3B4455;\n",
              "      --fill-color: #D2E3FC;\n",
              "      --hover-bg-color: #434B5C;\n",
              "      --hover-fill-color: #FFFFFF;\n",
              "      --disabled-bg-color: #3B4455;\n",
              "      --disabled-fill-color: #666;\n",
              "  }\n",
              "\n",
              "  .colab-df-quickchart {\n",
              "    background-color: var(--bg-color);\n",
              "    border: none;\n",
              "    border-radius: 50%;\n",
              "    cursor: pointer;\n",
              "    display: none;\n",
              "    fill: var(--fill-color);\n",
              "    height: 32px;\n",
              "    padding: 0;\n",
              "    width: 32px;\n",
              "  }\n",
              "\n",
              "  .colab-df-quickchart:hover {\n",
              "    background-color: var(--hover-bg-color);\n",
              "    box-shadow: 0 1px 2px rgba(60, 64, 67, 0.3), 0 1px 3px 1px rgba(60, 64, 67, 0.15);\n",
              "    fill: var(--button-hover-fill-color);\n",
              "  }\n",
              "\n",
              "  .colab-df-quickchart-complete:disabled,\n",
              "  .colab-df-quickchart-complete:disabled:hover {\n",
              "    background-color: var(--disabled-bg-color);\n",
              "    fill: var(--disabled-fill-color);\n",
              "    box-shadow: none;\n",
              "  }\n",
              "\n",
              "  .colab-df-spinner {\n",
              "    border: 2px solid var(--fill-color);\n",
              "    border-color: transparent;\n",
              "    border-bottom-color: var(--fill-color);\n",
              "    animation:\n",
              "      spin 1s steps(1) infinite;\n",
              "  }\n",
              "\n",
              "  @keyframes spin {\n",
              "    0% {\n",
              "      border-color: transparent;\n",
              "      border-bottom-color: var(--fill-color);\n",
              "      border-left-color: var(--fill-color);\n",
              "    }\n",
              "    20% {\n",
              "      border-color: transparent;\n",
              "      border-left-color: var(--fill-color);\n",
              "      border-top-color: var(--fill-color);\n",
              "    }\n",
              "    30% {\n",
              "      border-color: transparent;\n",
              "      border-left-color: var(--fill-color);\n",
              "      border-top-color: var(--fill-color);\n",
              "      border-right-color: var(--fill-color);\n",
              "    }\n",
              "    40% {\n",
              "      border-color: transparent;\n",
              "      border-right-color: var(--fill-color);\n",
              "      border-top-color: var(--fill-color);\n",
              "    }\n",
              "    60% {\n",
              "      border-color: transparent;\n",
              "      border-right-color: var(--fill-color);\n",
              "    }\n",
              "    80% {\n",
              "      border-color: transparent;\n",
              "      border-right-color: var(--fill-color);\n",
              "      border-bottom-color: var(--fill-color);\n",
              "    }\n",
              "    90% {\n",
              "      border-color: transparent;\n",
              "      border-bottom-color: var(--fill-color);\n",
              "    }\n",
              "  }\n",
              "</style>\n",
              "\n",
              "      <script>\n",
              "        async function quickchart(key) {\n",
              "          const quickchartButtonEl =\n",
              "            document.querySelector('#' + key + ' button');\n",
              "          quickchartButtonEl.disabled = true;  // To prevent multiple clicks.\n",
              "          quickchartButtonEl.classList.add('colab-df-spinner');\n",
              "          try {\n",
              "            const charts = await google.colab.kernel.invokeFunction(\n",
              "                'suggestCharts', [key], {});\n",
              "          } catch (error) {\n",
              "            console.error('Error during call to suggestCharts:', error);\n",
              "          }\n",
              "          quickchartButtonEl.classList.remove('colab-df-spinner');\n",
              "          quickchartButtonEl.classList.add('colab-df-quickchart-complete');\n",
              "        }\n",
              "        (() => {\n",
              "          let quickchartButtonEl =\n",
              "            document.querySelector('#df-82107106-dd33-4087-bb82-d237527741a3 button');\n",
              "          quickchartButtonEl.style.display =\n",
              "            google.colab.kernel.accessAllowed ? 'block' : 'none';\n",
              "        })();\n",
              "      </script>\n",
              "    </div>\n",
              "\n",
              "  <div id=\"id_7b24f582-27e9-4ebb-b7e5-91587ee0ca09\">\n",
              "    <style>\n",
              "      .colab-df-generate {\n",
              "        background-color: #E8F0FE;\n",
              "        border: none;\n",
              "        border-radius: 50%;\n",
              "        cursor: pointer;\n",
              "        display: none;\n",
              "        fill: #1967D2;\n",
              "        height: 32px;\n",
              "        padding: 0 0 0 0;\n",
              "        width: 32px;\n",
              "      }\n",
              "\n",
              "      .colab-df-generate:hover {\n",
              "        background-color: #E2EBFA;\n",
              "        box-shadow: 0px 1px 2px rgba(60, 64, 67, 0.3), 0px 1px 3px 1px rgba(60, 64, 67, 0.15);\n",
              "        fill: #174EA6;\n",
              "      }\n",
              "\n",
              "      [theme=dark] .colab-df-generate {\n",
              "        background-color: #3B4455;\n",
              "        fill: #D2E3FC;\n",
              "      }\n",
              "\n",
              "      [theme=dark] .colab-df-generate:hover {\n",
              "        background-color: #434B5C;\n",
              "        box-shadow: 0px 1px 3px 1px rgba(0, 0, 0, 0.15);\n",
              "        filter: drop-shadow(0px 1px 2px rgba(0, 0, 0, 0.3));\n",
              "        fill: #FFFFFF;\n",
              "      }\n",
              "    </style>\n",
              "    <button class=\"colab-df-generate\" onclick=\"generateWithVariable('df')\"\n",
              "            title=\"Generate code using this dataframe.\"\n",
              "            style=\"display:none;\">\n",
              "\n",
              "  <svg xmlns=\"http://www.w3.org/2000/svg\" height=\"24px\"viewBox=\"0 0 24 24\"\n",
              "       width=\"24px\">\n",
              "    <path d=\"M7,19H8.4L18.45,9,17,7.55,7,17.6ZM5,21V16.75L18.45,3.32a2,2,0,0,1,2.83,0l1.4,1.43a1.91,1.91,0,0,1,.58,1.4,1.91,1.91,0,0,1-.58,1.4L9.25,21ZM18.45,9,17,7.55Zm-12,3A5.31,5.31,0,0,0,4.9,8.1,5.31,5.31,0,0,0,1,6.5,5.31,5.31,0,0,0,4.9,4.9,5.31,5.31,0,0,0,6.5,1,5.31,5.31,0,0,0,8.1,4.9,5.31,5.31,0,0,0,12,6.5,5.46,5.46,0,0,0,6.5,12Z\"/>\n",
              "  </svg>\n",
              "    </button>\n",
              "    <script>\n",
              "      (() => {\n",
              "      const buttonEl =\n",
              "        document.querySelector('#id_7b24f582-27e9-4ebb-b7e5-91587ee0ca09 button.colab-df-generate');\n",
              "      buttonEl.style.display =\n",
              "        google.colab.kernel.accessAllowed ? 'block' : 'none';\n",
              "\n",
              "      buttonEl.onclick = () => {\n",
              "        google.colab.notebook.generateWithVariable('df');\n",
              "      }\n",
              "      })();\n",
              "    </script>\n",
              "  </div>\n",
              "\n",
              "    </div>\n",
              "  </div>\n"
            ],
            "application/vnd.google.colaboratory.intrinsic+json": {
              "type": "dataframe",
              "variable_name": "df",
              "summary": "{\n  \"name\": \"df\",\n  \"rows\": 2795,\n  \"fields\": [\n    {\n      \"column\": [\n        \"Date\",\n        \"\"\n      ],\n      \"properties\": {\n        \"dtype\": \"date\",\n        \"min\": \"2012-01-03 00:00:00\",\n        \"max\": \"2023-02-09 00:00:00\",\n        \"num_unique_values\": 2795,\n        \"samples\": [\n          \"2016-02-01 00:00:00\",\n          \"2021-07-28 00:00:00\",\n          \"2013-10-17 00:00:00\"\n        ],\n        \"semantic_type\": \"\",\n        \"description\": \"\"\n      }\n    },\n    {\n      \"column\": [\n        \"Close\",\n        \"AMZN\"\n      ],\n      \"properties\": {\n        \"dtype\": \"number\",\n        \"std\": 53.733254841725355,\n        \"min\": 8.796500205993652,\n        \"max\": 186.57049560546875,\n        \"num_unique_values\": 2766,\n        \"samples\": [\n          50.03150177001953,\n          21.19300079345703,\n          163.4304962158203\n        ],\n        \"semantic_type\": \"\",\n        \"description\": \"\"\n      }\n    },\n    {\n      \"column\": [\n        \"Close\",\n        \"GOOG\"\n      ],\n      \"properties\": {\n        \"dtype\": \"number\",\n        \"std\": 35.58247681613246,\n        \"min\": 13.829421043395996,\n        \"max\": 149.68466186523438,\n        \"num_unique_values\": 2768,\n        \"samples\": [\n          47.4746208190918,\n          26.301015853881836,\n          79.01130676269531\n        ],\n        \"semantic_type\": \"\",\n        \"description\": \"\"\n      }\n    },\n    {\n      \"column\": [\n        \"High\",\n        \"AMZN\"\n      ],\n      \"properties\": {\n        \"dtype\": \"number\",\n        \"std\": 54.44295969534376,\n        \"min\": 8.912500381469727,\n        \"max\": 188.6540069580078,\n        \"num_unique_values\": 2727,\n        \"samples\": [\n          58.68000030517578,\n          35.62649917602539,\n          91.1875\n        ],\n        \"semantic_type\": \"\",\n        \"description\": \"\"\n      }\n    },\n    {\n      \"column\": [\n        \"High\",\n        \"GOOG\"\n      ],\n      \"properties\": {\n        \"dtype\": \"number\",\n        \"std\": 36.0023277954656,\n        \"min\": 13.96473428654287,\n        \"max\": 151.06622298026883,\n        \"num_unique_values\": 2794,\n        \"samples\": [\n          39.225075791400755,\n          138.72666234133217,\n          22.18694155978582\n        ],\n        \"semantic_type\": \"\",\n        \"description\": \"\"\n      }\n    },\n    {\n      \"column\": [\n        \"Low\",\n        \"AMZN\"\n      ],\n      \"properties\": {\n        \"dtype\": \"number\",\n        \"std\": 53.050274177728056,\n        \"min\": 8.600000381469727,\n        \"max\": 184.83949279785156,\n        \"num_unique_values\": 2730,\n        \"samples\": [\n          23.700000762939453,\n          108.87999725341797,\n          119.10399627685547\n        ],\n        \"semantic_type\": \"\",\n        \"description\": \"\"\n      }\n    },\n    {\n      \"column\": [\n        \"Low\",\n        \"GOOG\"\n      ],\n      \"properties\": {\n        \"dtype\": \"number\",\n        \"std\": 35.167217781708906,\n        \"min\": 13.766835301393916,\n        \"max\": 148.86875845168012,\n        \"num_unique_values\": 2795,\n        \"samples\": [\n          36.91090671695809,\n          135.42327924102779,\n          21.91062465618148\n        ],\n        \"semantic_type\": \"\",\n        \"description\": \"\"\n      }\n    },\n    {\n      \"column\": [\n        \"Open\",\n        \"AMZN\"\n      ],\n      \"properties\": {\n        \"dtype\": \"number\",\n        \"std\": 53.786070489496446,\n        \"min\": 8.690500259399414,\n        \"max\": 187.1999969482422,\n        \"num_unique_values\": 2695,\n        \"samples\": [\n          14.570500373840332,\n          49.33649826049805,\n          89.6500015258789\n        ],\n        \"semantic_type\": \"\",\n        \"description\": \"\"\n      }\n    },\n    {\n      \"column\": [\n        \"Open\",\n        \"GOOG\"\n      ],\n      \"properties\": {\n        \"dtype\": \"number\",\n        \"std\": 35.57620577425318,\n        \"min\": 13.861332132677978,\n        \"max\": 150.83131925347337,\n        \"num_unique_values\": 2795,\n        \"samples\": [\n          37.26796033694084,\n          137.62023541491996,\n          22.090218045863452\n        ],\n        \"semantic_type\": \"\",\n        \"description\": \"\"\n      }\n    },\n    {\n      \"column\": [\n        \"Volume\",\n        \"AMZN\"\n      ],\n      \"properties\": {\n        \"dtype\": \"number\",\n        \"std\": 42852274,\n        \"min\": 17626000,\n        \"max\": 477122000,\n        \"num_unique_values\": 2731,\n        \"samples\": [\n          106584000,\n          178346000,\n          53720000\n        ],\n        \"semantic_type\": \"\",\n        \"description\": \"\"\n      }\n    },\n    {\n      \"column\": [\n        \"Volume\",\n        \"GOOG\"\n      ],\n      \"properties\": {\n        \"dtype\": \"number\",\n        \"std\": 35916964,\n        \"min\": 158434,\n        \"max\": 499561487,\n        \"num_unique_values\": 2704,\n        \"samples\": [\n          32222000,\n          47842656,\n          25214000\n        ],\n        \"semantic_type\": \"\",\n        \"description\": \"\"\n      }\n    }\n  ]\n}"
            }
          },
          "metadata": {},
          "execution_count": 3
        }
      ]
    },
    {
      "cell_type": "code",
      "execution_count": null,
      "id": "43749d68",
      "metadata": {
        "id": "43749d68",
        "colab": {
          "base_uri": "https://localhost:8080/"
        },
        "outputId": "e8b7501b-0b8d-4f05-e29d-06a9f6991ca9"
      },
      "outputs": [
        {
          "output_type": "execute_result",
          "data": {
            "text/plain": [
              "(2795, 10)"
            ]
          },
          "metadata": {},
          "execution_count": 4
        }
      ],
      "source": [
        "df.shape"
      ]
    },
    {
      "cell_type": "markdown",
      "id": "bacd0dd2",
      "metadata": {
        "id": "bacd0dd2"
      },
      "source": [
        "3. Visualize"
      ]
    },
    {
      "cell_type": "code",
      "source": [
        "df['Close'].tail(10)"
      ],
      "metadata": {
        "colab": {
          "base_uri": "https://localhost:8080/",
          "height": 394
        },
        "id": "iEJNYO1IW20S",
        "outputId": "662a331d-cdb3-4e3a-bc84-7b80c4dac59c"
      },
      "id": "iEJNYO1IW20S",
      "execution_count": null,
      "outputs": [
        {
          "output_type": "execute_result",
          "data": {
            "text/plain": [
              "Ticker            AMZN        GOOG\n",
              "Date                              \n",
              "2023-01-27  102.239998  100.025497\n",
              "2023-01-30  100.550003   97.284248\n",
              "2023-01-31  103.129997   99.191200\n",
              "2023-02-01  105.150002  100.740608\n",
              "2023-02-02  112.910004  108.060509\n",
              "2023-02-03  103.389999  104.504845\n",
              "2023-02-06  102.180000  102.766747\n",
              "2023-02-07  102.110001  107.305679\n",
              "2023-02-08  100.050003   99.320328\n",
              "2023-02-09   98.239998   94.811180"
            ],
            "text/html": [
              "\n",
              "  <div id=\"df-582f7ed4-ba50-4809-838c-679ea86dec72\" class=\"colab-df-container\">\n",
              "    <div>\n",
              "<style scoped>\n",
              "    .dataframe tbody tr th:only-of-type {\n",
              "        vertical-align: middle;\n",
              "    }\n",
              "\n",
              "    .dataframe tbody tr th {\n",
              "        vertical-align: top;\n",
              "    }\n",
              "\n",
              "    .dataframe thead th {\n",
              "        text-align: right;\n",
              "    }\n",
              "</style>\n",
              "<table border=\"1\" class=\"dataframe\">\n",
              "  <thead>\n",
              "    <tr style=\"text-align: right;\">\n",
              "      <th>Ticker</th>\n",
              "      <th>AMZN</th>\n",
              "      <th>GOOG</th>\n",
              "    </tr>\n",
              "    <tr>\n",
              "      <th>Date</th>\n",
              "      <th></th>\n",
              "      <th></th>\n",
              "    </tr>\n",
              "  </thead>\n",
              "  <tbody>\n",
              "    <tr>\n",
              "      <th>2023-01-27</th>\n",
              "      <td>102.239998</td>\n",
              "      <td>100.025497</td>\n",
              "    </tr>\n",
              "    <tr>\n",
              "      <th>2023-01-30</th>\n",
              "      <td>100.550003</td>\n",
              "      <td>97.284248</td>\n",
              "    </tr>\n",
              "    <tr>\n",
              "      <th>2023-01-31</th>\n",
              "      <td>103.129997</td>\n",
              "      <td>99.191200</td>\n",
              "    </tr>\n",
              "    <tr>\n",
              "      <th>2023-02-01</th>\n",
              "      <td>105.150002</td>\n",
              "      <td>100.740608</td>\n",
              "    </tr>\n",
              "    <tr>\n",
              "      <th>2023-02-02</th>\n",
              "      <td>112.910004</td>\n",
              "      <td>108.060509</td>\n",
              "    </tr>\n",
              "    <tr>\n",
              "      <th>2023-02-03</th>\n",
              "      <td>103.389999</td>\n",
              "      <td>104.504845</td>\n",
              "    </tr>\n",
              "    <tr>\n",
              "      <th>2023-02-06</th>\n",
              "      <td>102.180000</td>\n",
              "      <td>102.766747</td>\n",
              "    </tr>\n",
              "    <tr>\n",
              "      <th>2023-02-07</th>\n",
              "      <td>102.110001</td>\n",
              "      <td>107.305679</td>\n",
              "    </tr>\n",
              "    <tr>\n",
              "      <th>2023-02-08</th>\n",
              "      <td>100.050003</td>\n",
              "      <td>99.320328</td>\n",
              "    </tr>\n",
              "    <tr>\n",
              "      <th>2023-02-09</th>\n",
              "      <td>98.239998</td>\n",
              "      <td>94.811180</td>\n",
              "    </tr>\n",
              "  </tbody>\n",
              "</table>\n",
              "</div>\n",
              "    <div class=\"colab-df-buttons\">\n",
              "\n",
              "  <div class=\"colab-df-container\">\n",
              "    <button class=\"colab-df-convert\" onclick=\"convertToInteractive('df-582f7ed4-ba50-4809-838c-679ea86dec72')\"\n",
              "            title=\"Convert this dataframe to an interactive table.\"\n",
              "            style=\"display:none;\">\n",
              "\n",
              "  <svg xmlns=\"http://www.w3.org/2000/svg\" height=\"24px\" viewBox=\"0 -960 960 960\">\n",
              "    <path d=\"M120-120v-720h720v720H120Zm60-500h600v-160H180v160Zm220 220h160v-160H400v160Zm0 220h160v-160H400v160ZM180-400h160v-160H180v160Zm440 0h160v-160H620v160ZM180-180h160v-160H180v160Zm440 0h160v-160H620v160Z\"/>\n",
              "  </svg>\n",
              "    </button>\n",
              "\n",
              "  <style>\n",
              "    .colab-df-container {\n",
              "      display:flex;\n",
              "      gap: 12px;\n",
              "    }\n",
              "\n",
              "    .colab-df-convert {\n",
              "      background-color: #E8F0FE;\n",
              "      border: none;\n",
              "      border-radius: 50%;\n",
              "      cursor: pointer;\n",
              "      display: none;\n",
              "      fill: #1967D2;\n",
              "      height: 32px;\n",
              "      padding: 0 0 0 0;\n",
              "      width: 32px;\n",
              "    }\n",
              "\n",
              "    .colab-df-convert:hover {\n",
              "      background-color: #E2EBFA;\n",
              "      box-shadow: 0px 1px 2px rgba(60, 64, 67, 0.3), 0px 1px 3px 1px rgba(60, 64, 67, 0.15);\n",
              "      fill: #174EA6;\n",
              "    }\n",
              "\n",
              "    .colab-df-buttons div {\n",
              "      margin-bottom: 4px;\n",
              "    }\n",
              "\n",
              "    [theme=dark] .colab-df-convert {\n",
              "      background-color: #3B4455;\n",
              "      fill: #D2E3FC;\n",
              "    }\n",
              "\n",
              "    [theme=dark] .colab-df-convert:hover {\n",
              "      background-color: #434B5C;\n",
              "      box-shadow: 0px 1px 3px 1px rgba(0, 0, 0, 0.15);\n",
              "      filter: drop-shadow(0px 1px 2px rgba(0, 0, 0, 0.3));\n",
              "      fill: #FFFFFF;\n",
              "    }\n",
              "  </style>\n",
              "\n",
              "    <script>\n",
              "      const buttonEl =\n",
              "        document.querySelector('#df-582f7ed4-ba50-4809-838c-679ea86dec72 button.colab-df-convert');\n",
              "      buttonEl.style.display =\n",
              "        google.colab.kernel.accessAllowed ? 'block' : 'none';\n",
              "\n",
              "      async function convertToInteractive(key) {\n",
              "        const element = document.querySelector('#df-582f7ed4-ba50-4809-838c-679ea86dec72');\n",
              "        const dataTable =\n",
              "          await google.colab.kernel.invokeFunction('convertToInteractive',\n",
              "                                                    [key], {});\n",
              "        if (!dataTable) return;\n",
              "\n",
              "        const docLinkHtml = 'Like what you see? Visit the ' +\n",
              "          '<a target=\"_blank\" href=https://colab.research.google.com/notebooks/data_table.ipynb>data table notebook</a>'\n",
              "          + ' to learn more about interactive tables.';\n",
              "        element.innerHTML = '';\n",
              "        dataTable['output_type'] = 'display_data';\n",
              "        await google.colab.output.renderOutput(dataTable, element);\n",
              "        const docLink = document.createElement('div');\n",
              "        docLink.innerHTML = docLinkHtml;\n",
              "        element.appendChild(docLink);\n",
              "      }\n",
              "    </script>\n",
              "  </div>\n",
              "\n",
              "\n",
              "    <div id=\"df-60dfc616-a808-4ee7-9559-294c47f90c87\">\n",
              "      <button class=\"colab-df-quickchart\" onclick=\"quickchart('df-60dfc616-a808-4ee7-9559-294c47f90c87')\"\n",
              "                title=\"Suggest charts\"\n",
              "                style=\"display:none;\">\n",
              "\n",
              "<svg xmlns=\"http://www.w3.org/2000/svg\" height=\"24px\"viewBox=\"0 0 24 24\"\n",
              "     width=\"24px\">\n",
              "    <g>\n",
              "        <path d=\"M19 3H5c-1.1 0-2 .9-2 2v14c0 1.1.9 2 2 2h14c1.1 0 2-.9 2-2V5c0-1.1-.9-2-2-2zM9 17H7v-7h2v7zm4 0h-2V7h2v10zm4 0h-2v-4h2v4z\"/>\n",
              "    </g>\n",
              "</svg>\n",
              "      </button>\n",
              "\n",
              "<style>\n",
              "  .colab-df-quickchart {\n",
              "      --bg-color: #E8F0FE;\n",
              "      --fill-color: #1967D2;\n",
              "      --hover-bg-color: #E2EBFA;\n",
              "      --hover-fill-color: #174EA6;\n",
              "      --disabled-fill-color: #AAA;\n",
              "      --disabled-bg-color: #DDD;\n",
              "  }\n",
              "\n",
              "  [theme=dark] .colab-df-quickchart {\n",
              "      --bg-color: #3B4455;\n",
              "      --fill-color: #D2E3FC;\n",
              "      --hover-bg-color: #434B5C;\n",
              "      --hover-fill-color: #FFFFFF;\n",
              "      --disabled-bg-color: #3B4455;\n",
              "      --disabled-fill-color: #666;\n",
              "  }\n",
              "\n",
              "  .colab-df-quickchart {\n",
              "    background-color: var(--bg-color);\n",
              "    border: none;\n",
              "    border-radius: 50%;\n",
              "    cursor: pointer;\n",
              "    display: none;\n",
              "    fill: var(--fill-color);\n",
              "    height: 32px;\n",
              "    padding: 0;\n",
              "    width: 32px;\n",
              "  }\n",
              "\n",
              "  .colab-df-quickchart:hover {\n",
              "    background-color: var(--hover-bg-color);\n",
              "    box-shadow: 0 1px 2px rgba(60, 64, 67, 0.3), 0 1px 3px 1px rgba(60, 64, 67, 0.15);\n",
              "    fill: var(--button-hover-fill-color);\n",
              "  }\n",
              "\n",
              "  .colab-df-quickchart-complete:disabled,\n",
              "  .colab-df-quickchart-complete:disabled:hover {\n",
              "    background-color: var(--disabled-bg-color);\n",
              "    fill: var(--disabled-fill-color);\n",
              "    box-shadow: none;\n",
              "  }\n",
              "\n",
              "  .colab-df-spinner {\n",
              "    border: 2px solid var(--fill-color);\n",
              "    border-color: transparent;\n",
              "    border-bottom-color: var(--fill-color);\n",
              "    animation:\n",
              "      spin 1s steps(1) infinite;\n",
              "  }\n",
              "\n",
              "  @keyframes spin {\n",
              "    0% {\n",
              "      border-color: transparent;\n",
              "      border-bottom-color: var(--fill-color);\n",
              "      border-left-color: var(--fill-color);\n",
              "    }\n",
              "    20% {\n",
              "      border-color: transparent;\n",
              "      border-left-color: var(--fill-color);\n",
              "      border-top-color: var(--fill-color);\n",
              "    }\n",
              "    30% {\n",
              "      border-color: transparent;\n",
              "      border-left-color: var(--fill-color);\n",
              "      border-top-color: var(--fill-color);\n",
              "      border-right-color: var(--fill-color);\n",
              "    }\n",
              "    40% {\n",
              "      border-color: transparent;\n",
              "      border-right-color: var(--fill-color);\n",
              "      border-top-color: var(--fill-color);\n",
              "    }\n",
              "    60% {\n",
              "      border-color: transparent;\n",
              "      border-right-color: var(--fill-color);\n",
              "    }\n",
              "    80% {\n",
              "      border-color: transparent;\n",
              "      border-right-color: var(--fill-color);\n",
              "      border-bottom-color: var(--fill-color);\n",
              "    }\n",
              "    90% {\n",
              "      border-color: transparent;\n",
              "      border-bottom-color: var(--fill-color);\n",
              "    }\n",
              "  }\n",
              "</style>\n",
              "\n",
              "      <script>\n",
              "        async function quickchart(key) {\n",
              "          const quickchartButtonEl =\n",
              "            document.querySelector('#' + key + ' button');\n",
              "          quickchartButtonEl.disabled = true;  // To prevent multiple clicks.\n",
              "          quickchartButtonEl.classList.add('colab-df-spinner');\n",
              "          try {\n",
              "            const charts = await google.colab.kernel.invokeFunction(\n",
              "                'suggestCharts', [key], {});\n",
              "          } catch (error) {\n",
              "            console.error('Error during call to suggestCharts:', error);\n",
              "          }\n",
              "          quickchartButtonEl.classList.remove('colab-df-spinner');\n",
              "          quickchartButtonEl.classList.add('colab-df-quickchart-complete');\n",
              "        }\n",
              "        (() => {\n",
              "          let quickchartButtonEl =\n",
              "            document.querySelector('#df-60dfc616-a808-4ee7-9559-294c47f90c87 button');\n",
              "          quickchartButtonEl.style.display =\n",
              "            google.colab.kernel.accessAllowed ? 'block' : 'none';\n",
              "        })();\n",
              "      </script>\n",
              "    </div>\n",
              "\n",
              "    </div>\n",
              "  </div>\n"
            ],
            "application/vnd.google.colaboratory.intrinsic+json": {
              "type": "dataframe",
              "summary": "{\n  \"name\": \"df['Close']\",\n  \"rows\": 10,\n  \"fields\": [\n    {\n      \"column\": \"Date\",\n      \"properties\": {\n        \"dtype\": \"date\",\n        \"min\": \"2023-01-27 00:00:00\",\n        \"max\": \"2023-02-09 00:00:00\",\n        \"num_unique_values\": 10,\n        \"samples\": [\n          \"2023-02-08 00:00:00\",\n          \"2023-01-30 00:00:00\",\n          \"2023-02-03 00:00:00\"\n        ],\n        \"semantic_type\": \"\",\n        \"description\": \"\"\n      }\n    },\n    {\n      \"column\": \"AMZN\",\n      \"properties\": {\n        \"dtype\": \"number\",\n        \"std\": 3.977773205059636,\n        \"min\": 98.23999786376953,\n        \"max\": 112.91000366210938,\n        \"num_unique_values\": 10,\n        \"samples\": [\n          100.05000305175781,\n          100.55000305175781,\n          103.38999938964844\n        ],\n        \"semantic_type\": \"\",\n        \"description\": \"\"\n      }\n    },\n    {\n      \"column\": \"GOOG\",\n      \"properties\": {\n        \"dtype\": \"number\",\n        \"std\": 4.250847187812957,\n        \"min\": 94.8111801147461,\n        \"max\": 108.06050872802734,\n        \"num_unique_values\": 10,\n        \"samples\": [\n          99.32032775878906,\n          97.28424835205078,\n          104.50484466552734\n        ],\n        \"semantic_type\": \"\",\n        \"description\": \"\"\n      }\n    }\n  ]\n}"
            }
          },
          "metadata": {},
          "execution_count": 5
        }
      ]
    },
    {
      "cell_type": "code",
      "execution_count": null,
      "id": "eae6956a",
      "metadata": {
        "id": "eae6956a",
        "colab": {
          "base_uri": "https://localhost:8080/",
          "height": 735
        },
        "outputId": "c61dcf7a-68b2-4059-d19e-2217a9c44af7"
      },
      "outputs": [
        {
          "output_type": "execute_result",
          "data": {
            "text/plain": [
              "<matplotlib.legend.Legend at 0x7a0644f40860>"
            ]
          },
          "metadata": {},
          "execution_count": 6
        },
        {
          "output_type": "display_data",
          "data": {
            "text/plain": [
              "<Figure size 1200x800 with 1 Axes>"
            ],
            "image/png": "[encoded data removed]"
          },
          "metadata": {}
        }
      ],
      "source": [
        "plt.figure(figsize=(12,8))\n",
        "plt.title('Close Price History')\n",
        "plt.plot(df['Close'])\n",
        "plt.xlabel('Date')\n",
        "plt.ylabel('Stock Price ($)')\n",
        "plt.legend(['AMZN', 'GOOG'])"
      ]
    },
    {
      "cell_type": "code",
      "execution_count": null,
      "id": "5a64595a",
      "metadata": {
        "id": "5a64595a",
        "colab": {
          "base_uri": "https://localhost:8080/",
          "height": 707
        },
        "outputId": "f109e92f-e799-49f4-8d55-c3e68f216abd"
      },
      "outputs": [
        {
          "output_type": "execute_result",
          "data": {
            "text/plain": [
              "Ticker        AMZN       GOOG\n",
              "Date                         \n",
              "2012-01-03  8.9515  16.460485\n",
              "2012-01-04  8.8755  16.531481\n",
              "2012-01-05  8.8805  16.302164\n",
              "2012-01-06  9.1305  16.079781\n",
              "2012-01-09  8.9280  15.398017\n",
              "2012-01-10  8.9670  15.414838\n",
              "2012-01-11  8.9450  15.484599\n",
              "2012-01-12  8.7965  15.575630\n",
              "2012-01-13  8.9210  15.460603\n",
              "2012-01-17  9.0830  15.549409\n",
              "2012-01-18  9.4720  15.656523\n",
              "2012-01-19  9.7225  15.821271\n",
              "2012-01-20  9.5465  14.495846\n",
              "2012-01-23  9.3045  14.484218\n",
              "2012-01-24  9.3500  14.370675\n",
              "2012-01-25  9.3900  14.087679\n",
              "2012-01-26  9.6660  14.053294\n",
              "2012-01-27  9.7685  14.347175\n",
              "2012-01-30  9.6075  14.290524\n",
              "2012-01-31  9.7220  14.350389"
            ],
            "text/html": [
              "\n",
              "  <div id=\"df-0230e9e6-9321-4924-ba91-09586560a187\" class=\"colab-df-container\">\n",
              "    <div>\n",
              "<style scoped>\n",
              "    .dataframe tbody tr th:only-of-type {\n",
              "        vertical-align: middle;\n",
              "    }\n",
              "\n",
              "    .dataframe tbody tr th {\n",
              "        vertical-align: top;\n",
              "    }\n",
              "\n",
              "    .dataframe thead th {\n",
              "        text-align: right;\n",
              "    }\n",
              "</style>\n",
              "<table border=\"1\" class=\"dataframe\">\n",
              "  <thead>\n",
              "    <tr style=\"text-align: right;\">\n",
              "      <th>Ticker</th>\n",
              "      <th>AMZN</th>\n",
              "      <th>GOOG</th>\n",
              "    </tr>\n",
              "    <tr>\n",
              "      <th>Date</th>\n",
              "      <th></th>\n",
              "      <th></th>\n",
              "    </tr>\n",
              "  </thead>\n",
              "  <tbody>\n",
              "    <tr>\n",
              "      <th>2012-01-03</th>\n",
              "      <td>8.9515</td>\n",
              "      <td>16.460485</td>\n",
              "    </tr>\n",
              "    <tr>\n",
              "      <th>2012-01-04</th>\n",
              "      <td>8.8755</td>\n",
              "      <td>16.531481</td>\n",
              "    </tr>\n",
              "    <tr>\n",
              "      <th>2012-01-05</th>\n",
              "      <td>8.8805</td>\n",
              "      <td>16.302164</td>\n",
              "    </tr>\n",
              "    <tr>\n",
              "      <th>2012-01-06</th>\n",
              "      <td>9.1305</td>\n",
              "      <td>16.079781</td>\n",
              "    </tr>\n",
              "    <tr>\n",
              "      <th>2012-01-09</th>\n",
              "      <td>8.9280</td>\n",
              "      <td>15.398017</td>\n",
              "    </tr>\n",
              "    <tr>\n",
              "      <th>2012-01-10</th>\n",
              "      <td>8.9670</td>\n",
              "      <td>15.414838</td>\n",
              "    </tr>\n",
              "    <tr>\n",
              "      <th>2012-01-11</th>\n",
              "      <td>8.9450</td>\n",
              "      <td>15.484599</td>\n",
              "    </tr>\n",
              "    <tr>\n",
              "      <th>2012-01-12</th>\n",
              "      <td>8.7965</td>\n",
              "      <td>15.575630</td>\n",
              "    </tr>\n",
              "    <tr>\n",
              "      <th>2012-01-13</th>\n",
              "      <td>8.9210</td>\n",
              "      <td>15.460603</td>\n",
              "    </tr>\n",
              "    <tr>\n",
              "      <th>2012-01-17</th>\n",
              "      <td>9.0830</td>\n",
              "      <td>15.549409</td>\n",
              "    </tr>\n",
              "    <tr>\n",
              "      <th>2012-01-18</th>\n",
              "      <td>9.4720</td>\n",
              "      <td>15.656523</td>\n",
              "    </tr>\n",
              "    <tr>\n",
              "      <th>2012-01-19</th>\n",
              "      <td>9.7225</td>\n",
              "      <td>15.821271</td>\n",
              "    </tr>\n",
              "    <tr>\n",
              "      <th>2012-01-20</th>\n",
              "      <td>9.5465</td>\n",
              "      <td>14.495846</td>\n",
              "    </tr>\n",
              "    <tr>\n",
              "      <th>2012-01-23</th>\n",
              "      <td>9.3045</td>\n",
              "      <td>14.484218</td>\n",
              "    </tr>\n",
              "    <tr>\n",
              "      <th>2012-01-24</th>\n",
              "      <td>9.3500</td>\n",
              "      <td>14.370675</td>\n",
              "    </tr>\n",
              "    <tr>\n",
              "      <th>2012-01-25</th>\n",
              "      <td>9.3900</td>\n",
              "      <td>14.087679</td>\n",
              "    </tr>\n",
              "    <tr>\n",
              "      <th>2012-01-26</th>\n",
              "      <td>9.6660</td>\n",
              "      <td>14.053294</td>\n",
              "    </tr>\n",
              "    <tr>\n",
              "      <th>2012-01-27</th>\n",
              "      <td>9.7685</td>\n",
              "      <td>14.347175</td>\n",
              "    </tr>\n",
              "    <tr>\n",
              "      <th>2012-01-30</th>\n",
              "      <td>9.6075</td>\n",
              "      <td>14.290524</td>\n",
              "    </tr>\n",
              "    <tr>\n",
              "      <th>2012-01-31</th>\n",
              "      <td>9.7220</td>\n",
              "      <td>14.350389</td>\n",
              "    </tr>\n",
              "  </tbody>\n",
              "</table>\n",
              "</div>\n",
              "    <div class=\"colab-df-buttons\">\n",
              "\n",
              "  <div class=\"colab-df-container\">\n",
              "    <button class=\"colab-df-convert\" onclick=\"convertToInteractive('df-0230e9e6-9321-4924-ba91-09586560a187')\"\n",
              "            title=\"Convert this dataframe to an interactive table.\"\n",
              "            style=\"display:none;\">\n",
              "\n",
              "  <svg xmlns=\"http://www.w3.org/2000/svg\" height=\"24px\" viewBox=\"0 -960 960 960\">\n",
              "    <path d=\"M120-120v-720h720v720H120Zm60-500h600v-160H180v160Zm220 220h160v-160H400v160Zm0 220h160v-160H400v160ZM180-400h160v-160H180v160Zm440 0h160v-160H620v160ZM180-180h160v-160H180v160Zm440 0h160v-160H620v160Z\"/>\n",
              "  </svg>\n",
              "    </button>\n",
              "\n",
              "  <style>\n",
              "    .colab-df-container {\n",
              "      display:flex;\n",
              "      gap: 12px;\n",
              "    }\n",
              "\n",
              "    .colab-df-convert {\n",
              "      background-color: #E8F0FE;\n",
              "      border: none;\n",
              "      border-radius: 50%;\n",
              "      cursor: pointer;\n",
              "      display: none;\n",
              "      fill: #1967D2;\n",
              "      height: 32px;\n",
              "      padding: 0 0 0 0;\n",
              "      width: 32px;\n",
              "    }\n",
              "\n",
              "    .colab-df-convert:hover {\n",
              "      background-color: #E2EBFA;\n",
              "      box-shadow: 0px 1px 2px rgba(60, 64, 67, 0.3), 0px 1px 3px 1px rgba(60, 64, 67, 0.15);\n",
              "      fill: #174EA6;\n",
              "    }\n",
              "\n",
              "    .colab-df-buttons div {\n",
              "      margin-bottom: 4px;\n",
              "    }\n",
              "\n",
              "    [theme=dark] .colab-df-convert {\n",
              "      background-color: #3B4455;\n",
              "      fill: #D2E3FC;\n",
              "    }\n",
              "\n",
              "    [theme=dark] .colab-df-convert:hover {\n",
              "      background-color: #434B5C;\n",
              "      box-shadow: 0px 1px 3px 1px rgba(0, 0, 0, 0.15);\n",
              "      filter: drop-shadow(0px 1px 2px rgba(0, 0, 0, 0.3));\n",
              "      fill: #FFFFFF;\n",
              "    }\n",
              "  </style>\n",
              "\n",
              "    <script>\n",
              "      const buttonEl =\n",
              "        document.querySelector('#df-0230e9e6-9321-4924-ba91-09586560a187 button.colab-df-convert');\n",
              "      buttonEl.style.display =\n",
              "        google.colab.kernel.accessAllowed ? 'block' : 'none';\n",
              "\n",
              "      async function convertToInteractive(key) {\n",
              "        const element = document.querySelector('#df-0230e9e6-9321-4924-ba91-09586560a187');\n",
              "        const dataTable =\n",
              "          await google.colab.kernel.invokeFunction('convertToInteractive',\n",
              "                                                    [key], {});\n",
              "        if (!dataTable) return;\n",
              "\n",
              "        const docLinkHtml = 'Like what you see? Visit the ' +\n",
              "          '<a target=\"_blank\" href=https://colab.research.google.com/notebooks/data_table.ipynb>data table notebook</a>'\n",
              "          + ' to learn more about interactive tables.';\n",
              "        element.innerHTML = '';\n",
              "        dataTable['output_type'] = 'display_data';\n",
              "        await google.colab.output.renderOutput(dataTable, element);\n",
              "        const docLink = document.createElement('div');\n",
              "        docLink.innerHTML = docLinkHtml;\n",
              "        element.appendChild(docLink);\n",
              "      }\n",
              "    </script>\n",
              "  </div>\n",
              "\n",
              "\n",
              "    <div id=\"df-18233b1c-d7e9-45d3-a702-6886448ef8d7\">\n",
              "      <button class=\"colab-df-quickchart\" onclick=\"quickchart('df-18233b1c-d7e9-45d3-a702-6886448ef8d7')\"\n",
              "                title=\"Suggest charts\"\n",
              "                style=\"display:none;\">\n",
              "\n",
              "<svg xmlns=\"http://www.w3.org/2000/svg\" height=\"24px\"viewBox=\"0 0 24 24\"\n",
              "     width=\"24px\">\n",
              "    <g>\n",
              "        <path d=\"M19 3H5c-1.1 0-2 .9-2 2v14c0 1.1.9 2 2 2h14c1.1 0 2-.9 2-2V5c0-1.1-.9-2-2-2zM9 17H7v-7h2v7zm4 0h-2V7h2v10zm4 0h-2v-4h2v4z\"/>\n",
              "    </g>\n",
              "</svg>\n",
              "      </button>\n",
              "\n",
              "<style>\n",
              "  .colab-df-quickchart {\n",
              "      --bg-color: #E8F0FE;\n",
              "      --fill-color: #1967D2;\n",
              "      --hover-bg-color: #E2EBFA;\n",
              "      --hover-fill-color: #174EA6;\n",
              "      --disabled-fill-color: #AAA;\n",
              "      --disabled-bg-color: #DDD;\n",
              "  }\n",
              "\n",
              "  [theme=dark] .colab-df-quickchart {\n",
              "      --bg-color: #3B4455;\n",
              "      --fill-color: #D2E3FC;\n",
              "      --hover-bg-color: #434B5C;\n",
              "      --hover-fill-color: #FFFFFF;\n",
              "      --disabled-bg-color: #3B4455;\n",
              "      --disabled-fill-color: #666;\n",
              "  }\n",
              "\n",
              "  .colab-df-quickchart {\n",
              "    background-color: var(--bg-color);\n",
              "    border: none;\n",
              "    border-radius: 50%;\n",
              "    cursor: pointer;\n",
              "    display: none;\n",
              "    fill: var(--fill-color);\n",
              "    height: 32px;\n",
              "    padding: 0;\n",
              "    width: 32px;\n",
              "  }\n",
              "\n",
              "  .colab-df-quickchart:hover {\n",
              "    background-color: var(--hover-bg-color);\n",
              "    box-shadow: 0 1px 2px rgba(60, 64, 67, 0.3), 0 1px 3px 1px rgba(60, 64, 67, 0.15);\n",
              "    fill: var(--button-hover-fill-color);\n",
              "  }\n",
              "\n",
              "  .colab-df-quickchart-complete:disabled,\n",
              "  .colab-df-quickchart-complete:disabled:hover {\n",
              "    background-color: var(--disabled-bg-color);\n",
              "    fill: var(--disabled-fill-color);\n",
              "    box-shadow: none;\n",
              "  }\n",
              "\n",
              "  .colab-df-spinner {\n",
              "    border: 2px solid var(--fill-color);\n",
              "    border-color: transparent;\n",
              "    border-bottom-color: var(--fill-color);\n",
              "    animation:\n",
              "      spin 1s steps(1) infinite;\n",
              "  }\n",
              "\n",
              "  @keyframes spin {\n",
              "    0% {\n",
              "      border-color: transparent;\n",
              "      border-bottom-color: var(--fill-color);\n",
              "      border-left-color: var(--fill-color);\n",
              "    }\n",
              "    20% {\n",
              "      border-color: transparent;\n",
              "      border-left-color: var(--fill-color);\n",
              "      border-top-color: var(--fill-color);\n",
              "    }\n",
              "    30% {\n",
              "      border-color: transparent;\n",
              "      border-left-color: var(--fill-color);\n",
              "      border-top-color: var(--fill-color);\n",
              "      border-right-color: var(--fill-color);\n",
              "    }\n",
              "    40% {\n",
              "      border-color: transparent;\n",
              "      border-right-color: var(--fill-color);\n",
              "      border-top-color: var(--fill-color);\n",
              "    }\n",
              "    60% {\n",
              "      border-color: transparent;\n",
              "      border-right-color: var(--fill-color);\n",
              "    }\n",
              "    80% {\n",
              "      border-color: transparent;\n",
              "      border-right-color: var(--fill-color);\n",
              "      border-bottom-color: var(--fill-color);\n",
              "    }\n",
              "    90% {\n",
              "      border-color: transparent;\n",
              "      border-bottom-color: var(--fill-color);\n",
              "    }\n",
              "  }\n",
              "</style>\n",
              "\n",
              "      <script>\n",
              "        async function quickchart(key) {\n",
              "          const quickchartButtonEl =\n",
              "            document.querySelector('#' + key + ' button');\n",
              "          quickchartButtonEl.disabled = true;  // To prevent multiple clicks.\n",
              "          quickchartButtonEl.classList.add('colab-df-spinner');\n",
              "          try {\n",
              "            const charts = await google.colab.kernel.invokeFunction(\n",
              "                'suggestCharts', [key], {});\n",
              "          } catch (error) {\n",
              "            console.error('Error during call to suggestCharts:', error);\n",
              "          }\n",
              "          quickchartButtonEl.classList.remove('colab-df-spinner');\n",
              "          quickchartButtonEl.classList.add('colab-df-quickchart-complete');\n",
              "        }\n",
              "        (() => {\n",
              "          let quickchartButtonEl =\n",
              "            document.querySelector('#df-18233b1c-d7e9-45d3-a702-6886448ef8d7 button');\n",
              "          quickchartButtonEl.style.display =\n",
              "            google.colab.kernel.accessAllowed ? 'block' : 'none';\n",
              "        })();\n",
              "      </script>\n",
              "    </div>\n",
              "\n",
              "    </div>\n",
              "  </div>\n"
            ],
            "application/vnd.google.colaboratory.intrinsic+json": {
              "type": "dataframe",
              "variable_name": "data",
              "summary": "{\n  \"name\": \"data\",\n  \"rows\": 2795,\n  \"fields\": [\n    {\n      \"column\": \"Date\",\n      \"properties\": {\n        \"dtype\": \"date\",\n        \"min\": \"2012-01-03 00:00:00\",\n        \"max\": \"2023-02-09 00:00:00\",\n        \"num_unique_values\": 2795,\n        \"samples\": [\n          \"2016-02-01 00:00:00\",\n          \"2021-07-28 00:00:00\",\n          \"2013-10-17 00:00:00\"\n        ],\n        \"semantic_type\": \"\",\n        \"description\": \"\"\n      }\n    },\n    {\n      \"column\": \"AMZN\",\n      \"properties\": {\n        \"dtype\": \"number\",\n        \"std\": 53.733254841725355,\n        \"min\": 8.796500205993652,\n        \"max\": 186.57049560546875,\n        \"num_unique_values\": 2766,\n        \"samples\": [\n          50.03150177001953,\n          21.19300079345703,\n          163.4304962158203\n        ],\n        \"semantic_type\": \"\",\n        \"description\": \"\"\n      }\n    },\n    {\n      \"column\": \"GOOG\",\n      \"properties\": {\n        \"dtype\": \"number\",\n        \"std\": 35.58247681613246,\n        \"min\": 13.829421043395996,\n        \"max\": 149.68466186523438,\n        \"num_unique_values\": 2768,\n        \"samples\": [\n          47.4746208190918,\n          26.301015853881836,\n          79.01130676269531\n        ],\n        \"semantic_type\": \"\",\n        \"description\": \"\"\n      }\n    }\n  ]\n}"
            }
          },
          "metadata": {},
          "execution_count": 7
        }
      ],
      "source": [
        "data=df['Close']\n",
        "data.head(20)"
      ]
    },
    {
      "cell_type": "markdown",
      "id": "2b36b9d2",
      "metadata": {
        "id": "2b36b9d2"
      },
      "source": [
        "4. Prepare the data"
      ]
    },
    {
      "cell_type": "code",
      "execution_count": null,
      "id": "33e98ea8",
      "metadata": {
        "id": "33e98ea8"
      },
      "outputs": [],
      "source": [
        "#convert to numpy aarray\n",
        "#We use 80 of the data for training\n",
        "train_pct=0.8\n",
        "dataset=data.values\n",
        "train_data_len=math.ceil(len(dataset)*train_pct)"
      ]
    },
    {
      "cell_type": "code",
      "source": [
        "dataset.shape"
      ],
      "metadata": {
        "colab": {
          "base_uri": "https://localhost:8080/"
        },
        "id": "MHp6U3Wvynb5",
        "outputId": "01dd7c6e-7dcf-496c-cc19-a1412f977429"
      },
      "id": "MHp6U3Wvynb5",
      "execution_count": null,
      "outputs": [
        {
          "output_type": "execute_result",
          "data": {
            "text/plain": [
              "(2795, 2)"
            ]
          },
          "metadata": {},
          "execution_count": 9
        }
      ]
    },
    {
      "cell_type": "code",
      "execution_count": null,
      "id": "873eb3d8",
      "metadata": {
        "id": "873eb3d8"
      },
      "outputs": [],
      "source": [
        "#Scale the data\n",
        "scaler = MinMaxScaler(feature_range=(0,1))\n",
        "scaled_data=scaler.fit_transform(dataset)"
      ]
    },
    {
      "cell_type": "code",
      "source": [
        "scaled_data.shape"
      ],
      "metadata": {
        "colab": {
          "base_uri": "https://localhost:8080/"
        },
        "id": "zX2iLGJjy8zX",
        "outputId": "7b4ee89b-281a-4b93-b67e-d041065712ac"
      },
      "id": "zX2iLGJjy8zX",
      "execution_count": null,
      "outputs": [
        {
          "output_type": "execute_result",
          "data": {
            "text/plain": [
              "(2795, 2)"
            ]
          },
          "metadata": {},
          "execution_count": 11
        }
      ]
    },
    {
      "cell_type": "code",
      "source": [
        "scaled_data[-20:]"
      ],
      "metadata": {
        "colab": {
          "base_uri": "https://localhost:8080/"
        },
        "id": "Q__SAVuKVvvt",
        "outputId": "c84f9a69-b15b-4998-88fb-67aa007eb253"
      },
      "id": "Q__SAVuKVvvt",
      "execution_count": null,
      "outputs": [
        {
          "output_type": "execute_result",
          "data": {
            "text/plain": [
              "array([[0.48642377, 0.5701355 ],\n",
              "       [0.50245539, 0.57664205],\n",
              "       [0.4908114 , 0.57196317],\n",
              "       [0.48749255, 0.56918508],\n",
              "       [0.47747985, 0.58475698],\n",
              "       [0.49756152, 0.62401565],\n",
              "       [0.49908029, 0.63812535],\n",
              "       [0.49233016, 0.62350388],\n",
              "       [0.49716777, 0.60537329],\n",
              "       [0.50864302, 0.6231384 ],\n",
              "       [0.52563086, 0.63447001],\n",
              "       [0.51612443, 0.61429229],\n",
              "       [0.53063721, 0.62832894],\n",
              "       [0.54199998, 0.63973378],\n",
              "       [0.58565092, 0.69361393],\n",
              "       [0.53209975, 0.66744148],\n",
              "       [0.52529336, 0.65464773],\n",
              "       [0.52489961, 0.6880578 ],\n",
              "       [0.51331187, 0.62927942],\n",
              "       [0.50313038, 0.59608859]])"
            ]
          },
          "metadata": {},
          "execution_count": 12
        }
      ]
    },
    {
      "cell_type": "code",
      "source": [
        "type(scaled_data)"
      ],
      "metadata": {
        "colab": {
          "base_uri": "https://localhost:8080/"
        },
        "id": "Y6E0jLLNWQW_",
        "outputId": "ad31f4f3-1bb0-4bba-e220-49ab54bc8330"
      },
      "id": "Y6E0jLLNWQW_",
      "execution_count": null,
      "outputs": [
        {
          "output_type": "execute_result",
          "data": {
            "text/plain": [
              "numpy.ndarray"
            ]
          },
          "metadata": {},
          "execution_count": 13
        }
      ]
    },
    {
      "cell_type": "markdown",
      "id": "b99e5e8a",
      "metadata": {
        "id": "b99e5e8a"
      },
      "source": [
        "### The window we use is n_period as input"
      ]
    },
    {
      "cell_type": "code",
      "execution_count": null,
      "id": "b24fd20b",
      "metadata": {
        "id": "b24fd20b"
      },
      "outputs": [],
      "source": [
        "n_period=60\n",
        "#training dataset\n",
        "train_data=scaled_data[0:train_data_len]\n",
        "x_train=[]\n",
        "y_train=[]\n",
        "\n",
        "for i in range(n_period, len(train_data)):\n",
        "    x_train.append(train_data[i-n_period:i])\n",
        "    y_train.append(train_data[i,0])\n",
        "\n"
      ]
    },
    {
      "cell_type": "code",
      "source": [
        "x_train[0:1]"
      ],
      "metadata": {
        "colab": {
          "base_uri": "https://localhost:8080/"
        },
        "id": "wXU39nmsyc5W",
        "outputId": "f1644fb7-d4cb-4c09-f883-504204e91f0d"
      },
      "id": "wXU39nmsyc5W",
      "execution_count": null,
      "outputs": [
        {
          "output_type": "execute_result",
          "data": {
            "text/plain": [
              "[array([[0.00087189, 0.01936668],\n",
              "        [0.00044438, 0.01988926],\n",
              "        [0.00047251, 0.01820131],\n",
              "        [0.00187879, 0.01656439],\n",
              "        [0.0007397 , 0.01154608],\n",
              "        [0.00095908, 0.0116699 ],\n",
              "        [0.00083533, 0.0121834 ],\n",
              "        [0.        , 0.01285345],\n",
              "        [0.00070032, 0.01200676],\n",
              "        [0.0016116 , 0.01266045],\n",
              "        [0.00379977, 0.01344889],\n",
              "        [0.00520886, 0.01466156],\n",
              "        [0.00421884, 0.0049054 ],\n",
              "        [0.00285756, 0.00481981],\n",
              "        [0.0031135 , 0.00398405],\n",
              "        [0.00333851, 0.00190098],\n",
              "        [0.00489104, 0.00164788],\n",
              "        [0.00546762, 0.00381107],\n",
              "        [0.00456197, 0.00339408],\n",
              "        [0.00520605, 0.00383473],\n",
              "        [0.00099283, 0.00396583],\n",
              "        [0.00162847, 0.00474517],\n",
              "        [0.00330476, 0.00678818],\n",
              "        [0.00202785, 0.00911159],\n",
              "        [0.00232318, 0.00868916],\n",
              "        [0.00268599, 0.00924998],\n",
              "        [0.00254536, 0.00954313],\n",
              "        [0.00270287, 0.00853256],\n",
              "        [0.00440447, 0.00967787],\n",
              "        [0.0043229 , 0.00923358],\n",
              "        [0.00240193, 0.00846883],\n",
              "        [0.00112502, 0.00864363],\n",
              "        [0.00184785, 0.00830131],\n",
              "        [0.00178035, 0.01000563],\n",
              "        [0.00130784, 0.00890219],\n",
              "        [0.00083252, 0.00856897],\n",
              "        [0.00090002, 0.00925909],\n",
              "        [0.00073127, 0.00915166],\n",
              "        [0.00221348, 0.01080499],\n",
              "        [0.00105752, 0.0107795 ],\n",
              "        [0.00115596, 0.01153515],\n",
              "        [0.00094783, 0.01132575],\n",
              "        [0.00121783, 0.01005116],\n",
              "        [0.00145128, 0.00835957],\n",
              "        [0.00220505, 0.00869461],\n",
              "        [0.00329351, 0.00875653],\n",
              "        [0.00235973, 0.00750195],\n",
              "        [0.00209817, 0.00839417],\n",
              "        [0.00243567, 0.01069392],\n",
              "        [0.00178035, 0.01036799],\n",
              "        [0.00239068, 0.01130391],\n",
              "        [0.00256505, 0.01201587],\n",
              "        [0.00269724, 0.01364372],\n",
              "        [0.0046126 , 0.01355449],\n",
              "        [0.00444384, 0.01473623],\n",
              "        [0.00463228, 0.01584149],\n",
              "        [0.0053748 , 0.01521148],\n",
              "        [0.00757704, 0.01643874],\n",
              "        [0.00829986, 0.01601813],\n",
              "        [0.00709609, 0.01760955]])]"
            ]
          },
          "metadata": {},
          "execution_count": 15
        }
      ]
    },
    {
      "cell_type": "code",
      "execution_count": null,
      "id": "4bd0854f",
      "metadata": {
        "id": "4bd0854f",
        "colab": {
          "base_uri": "https://localhost:8080/"
        },
        "outputId": "40b13722-6df5-4d1b-c75f-8c5db61660ff"
      },
      "outputs": [
        {
          "output_type": "execute_result",
          "data": {
            "text/plain": [
              "[np.float64(0.008066421706034416)]"
            ]
          },
          "metadata": {},
          "execution_count": 16
        }
      ],
      "source": [
        "y_train[0:1]"
      ]
    },
    {
      "cell_type": "code",
      "execution_count": null,
      "id": "367ff1f8",
      "metadata": {
        "id": "367ff1f8",
        "colab": {
          "base_uri": "https://localhost:8080/"
        },
        "outputId": "4074cce8-b0d0-46ea-b323-b12219c1de1b"
      },
      "outputs": [
        {
          "output_type": "execute_result",
          "data": {
            "text/plain": [
              "[np.float64(0.008066421706034416), np.float64(0.007475781350144914)]"
            ]
          },
          "metadata": {},
          "execution_count": 17
        }
      ],
      "source": [
        "y_train[:2]"
      ]
    },
    {
      "cell_type": "code",
      "execution_count": null,
      "id": "5792e24f",
      "metadata": {
        "id": "5792e24f"
      },
      "outputs": [],
      "source": [
        "#Convert numpy array\n",
        "x_train, y_train=np.array(x_train), np.array(y_train)"
      ]
    },
    {
      "cell_type": "code",
      "execution_count": null,
      "id": "c7f71888",
      "metadata": {
        "id": "c7f71888",
        "colab": {
          "base_uri": "https://localhost:8080/"
        },
        "outputId": "ba7035b2-2242-4a4c-971c-d57880529042"
      },
      "outputs": [
        {
          "output_type": "execute_result",
          "data": {
            "text/plain": [
              "(2176, 60, 2)"
            ]
          },
          "metadata": {},
          "execution_count": 19
        }
      ],
      "source": [
        "x_train.shape"
      ]
    },
    {
      "cell_type": "code",
      "source": [
        "y_train.shape"
      ],
      "metadata": {
        "colab": {
          "base_uri": "https://localhost:8080/"
        },
        "id": "eUv54JwC11Qu",
        "outputId": "2d4d628f-f02e-48d6-8bdd-1a9e75080742"
      },
      "id": "eUv54JwC11Qu",
      "execution_count": null,
      "outputs": [
        {
          "output_type": "execute_result",
          "data": {
            "text/plain": [
              "(2176,)"
            ]
          },
          "metadata": {},
          "execution_count": 20
        }
      ]
    },
    {
      "cell_type": "code",
      "execution_count": null,
      "id": "7248d31c",
      "metadata": {
        "id": "7248d31c",
        "colab": {
          "base_uri": "https://localhost:8080/"
        },
        "outputId": "64379439-4bef-4543-9494-3d22157c87ec"
      },
      "outputs": [
        {
          "output_type": "execute_result",
          "data": {
            "text/plain": [
              "(2176, 60, 2)"
            ]
          },
          "metadata": {},
          "execution_count": 21
        }
      ],
      "source": [
        "x_train=np.reshape(x_train, (x_train.shape[0], x_train.shape[1],2))\n",
        "x_train.shape"
      ]
    },
    {
      "cell_type": "markdown",
      "id": "036d32be",
      "metadata": {
        "id": "036d32be"
      },
      "source": [
        "5. Train the model\n",
        "Adam optimization is a stochastic gradient descent method that is based on adaptive estimation of first-order and second-order moments.\n",
        "loss function is chosen as mean_squared_error'"
      ]
    },
    {
      "cell_type": "code",
      "source": [],
      "metadata": {
        "id": "eVhFgUreW89S"
      },
      "id": "eVhFgUreW89S",
      "execution_count": null,
      "outputs": []
    },
    {
      "cell_type": "code",
      "execution_count": null,
      "id": "84704a94",
      "metadata": {
        "id": "84704a94",
        "colab": {
          "base_uri": "https://localhost:8080/"
        },
        "outputId": "a2bb169c-f770-424e-cd75-028f68236dd5"
      },
      "outputs": [
        {
          "output_type": "stream",
          "name": "stderr",
          "text": [
            "/usr/local/lib/python3.12/dist-packages/keras/src/layers/rnn/rnn.py:199: UserWarning: Do not pass an `input_shape`/`input_dim` argument to a layer. When using Sequential models, prefer using an `Input(shape)` object as the first layer in the model instead.\n",
            "  super().__init__(**kwargs)\n"
          ]
        }
      ],
      "source": [
        "#Build the LSTM model\n",
        "model=Sequential()\n",
        "model.add(LSTM(50,return_sequences=True, input_shape=(x_train.shape[1],2)))\n",
        "model.add(LSTM(50, return_sequences=False))\n",
        "model.add(Dense(25))\n",
        "model.add(Dense(1))\n"
      ]
    },
    {
      "cell_type": "code",
      "execution_count": null,
      "id": "df48dce3",
      "metadata": {
        "id": "df48dce3"
      },
      "outputs": [],
      "source": [
        "model.compile(optimizer='adam', loss='mean_squared_error')"
      ]
    },
    {
      "cell_type": "code",
      "execution_count": null,
      "id": "7727d86b",
      "metadata": {
        "id": "7727d86b",
        "outputId": "1c49e2c0-06dc-47ab-eeb0-d0e8b9acef07",
        "colab": {
          "base_uri": "https://localhost:8080/"
        }
      },
      "outputs": [
        {
          "output_type": "stream",
          "name": "stdout",
          "text": [
            "\u001b[1m2176/2176\u001b[0m \u001b[32m━━━━━━━━━━━━━━━━━━━━\u001b[0m\u001b[37m\u001b[0m \u001b[1m22s\u001b[0m 8ms/step - loss: 0.0023\n"
          ]
        },
        {
          "output_type": "execute_result",
          "data": {
            "text/plain": [
              "<keras.src.callbacks.history.History at 0x7a068c112840>"
            ]
          },
          "metadata": {},
          "execution_count": 24
        }
      ],
      "source": [
        "model.fit(x_train,y_train, batch_size=1, epochs=1)"
      ]
    },
    {
      "cell_type": "code",
      "execution_count": null,
      "id": "fdf309a5",
      "metadata": {
        "id": "fdf309a5"
      },
      "outputs": [],
      "source": [
        "#Test\n",
        "test_data=scaled_data[train_data_len-60:,:]\n",
        "x_test=[]\n",
        "y_test=dataset[train_data_len:,:]\n",
        "\n",
        "for i in range(60, len(test_data)):\n",
        "    x_test.append(test_data[i-60:i])\n",
        "\n",
        "\n",
        "x_test=np.array(x_test)\n",
        "x_test=np.reshape(x_test, (x_test.shape[0], x_test.shape[1], 2))"
      ]
    },
    {
      "cell_type": "code",
      "execution_count": null,
      "id": "f19dcf96",
      "metadata": {
        "id": "f19dcf96",
        "outputId": "38e9d678-4812-4b1d-ea05-5db211e7a9e0",
        "colab": {
          "base_uri": "https://localhost:8080/"
        }
      },
      "outputs": [
        {
          "output_type": "execute_result",
          "data": {
            "text/plain": [
              "(559, 60, 2)"
            ]
          },
          "metadata": {},
          "execution_count": 26
        }
      ],
      "source": [
        "x_test.shape"
      ]
    },
    {
      "cell_type": "markdown",
      "id": "0a8c4341",
      "metadata": {
        "id": "0a8c4341"
      },
      "source": [
        "6. Prediction error"
      ]
    },
    {
      "cell_type": "code",
      "source": [
        "scaled_data"
      ],
      "metadata": {
        "colab": {
          "base_uri": "https://localhost:8080/"
        },
        "id": "fRYUOW7dtrRd",
        "outputId": "13ad5708-68ae-4b97-ab3f-06d3bb617569"
      },
      "id": "fRYUOW7dtrRd",
      "execution_count": null,
      "outputs": [
        {
          "output_type": "execute_result",
          "data": {
            "text/plain": [
              "array([[8.71892048e-04, 1.93666759e-02],\n",
              "       [4.44381751e-04, 1.98892566e-02],\n",
              "       [4.72507993e-04, 1.82013077e-02],\n",
              "       ...,\n",
              "       [5.24899607e-01, 6.88057801e-01],\n",
              "       [5.13311875e-01, 6.29279417e-01],\n",
              "       [5.03130379e-01, 5.96088591e-01]])"
            ]
          },
          "metadata": {},
          "execution_count": 27
        }
      ]
    },
    {
      "cell_type": "code",
      "source": [
        "scaler.data_max_"
      ],
      "metadata": {
        "colab": {
          "base_uri": "https://localhost:8080/"
        },
        "id": "FXn0vTvKt3vB",
        "outputId": "6a515389-6f52-4a2f-c2fd-4e20202c65d5"
      },
      "id": "FXn0vTvKt3vB",
      "execution_count": null,
      "outputs": [
        {
          "output_type": "execute_result",
          "data": {
            "text/plain": [
              "array([186.57049561, 149.68466187])"
            ]
          },
          "metadata": {},
          "execution_count": 28
        }
      ]
    },
    {
      "cell_type": "code",
      "source": [
        "scaler.data_min_"
      ],
      "metadata": {
        "colab": {
          "base_uri": "https://localhost:8080/"
        },
        "id": "2IVXL1Ch6oNN",
        "outputId": "b9e8c966-ebcc-43e5-9db7-3c0b2afe0139"
      },
      "id": "2IVXL1Ch6oNN",
      "execution_count": null,
      "outputs": [
        {
          "output_type": "execute_result",
          "data": {
            "text/plain": [
              "array([ 8.79650021, 13.82942104])"
            ]
          },
          "metadata": {},
          "execution_count": 29
        }
      ]
    },
    {
      "cell_type": "code",
      "execution_count": null,
      "id": "c8e158a5",
      "metadata": {
        "id": "c8e158a5",
        "colab": {
          "base_uri": "https://localhost:8080/"
        },
        "outputId": "6b859af1-fed8-4374-9d43-bb2125f0a2df"
      },
      "outputs": [
        {
          "output_type": "stream",
          "name": "stdout",
          "text": [
            "\u001b[1m18/18\u001b[0m \u001b[32m━━━━━━━━━━━━━━━━━━━━\u001b[0m\u001b[37m\u001b[0m \u001b[1m0s\u001b[0m 14ms/step\n"
          ]
        }
      ],
      "source": [
        "predictions_scaled=model.predict(x_test)"
      ]
    },
    {
      "cell_type": "code",
      "execution_count": null,
      "id": "6e106d69",
      "metadata": {
        "id": "6e106d69"
      },
      "outputs": [],
      "source": [
        "#predictions=scaler.inverse_transform(predictions)\n",
        "predictions=predictions_scaled*(scaler.data_max_[0]-scaler.data_min_[0])+scaler.data_min_[0]"
      ]
    },
    {
      "cell_type": "code",
      "execution_count": null,
      "id": "0e231af7",
      "metadata": {
        "id": "0e231af7",
        "colab": {
          "base_uri": "https://localhost:8080/"
        },
        "outputId": "12344d83-42b7-4633-ead7-3d3243caabf9"
      },
      "outputs": [
        {
          "output_type": "execute_result",
          "data": {
            "text/plain": [
              "(559, 1)"
            ]
          },
          "metadata": {},
          "execution_count": 32
        }
      ],
      "source": [
        "predictions.shape"
      ]
    },
    {
      "cell_type": "code",
      "execution_count": null,
      "id": "19766298",
      "metadata": {
        "id": "19766298",
        "colab": {
          "base_uri": "https://localhost:8080/"
        },
        "outputId": "432d5edd-1092-4ee0-c4b2-d24bc3aa3d29"
      },
      "outputs": [
        {
          "output_type": "execute_result",
          "data": {
            "text/plain": [
              "np.float64(18.24457287392877)"
            ]
          },
          "metadata": {},
          "execution_count": 33
        }
      ],
      "source": [
        "#RMSE\n",
        "rmse=np.sqrt(np.mean(predictions-y_test)**2)\n",
        "rmse"
      ]
    },
    {
      "cell_type": "code",
      "source": [
        "data.max()"
      ],
      "metadata": {
        "colab": {
          "base_uri": "https://localhost:8080/",
          "height": 178
        },
        "id": "k_m2-0gRC3JE",
        "outputId": "d548f8f4-49a4-46e3-dbbd-f6ba736c7183"
      },
      "id": "k_m2-0gRC3JE",
      "execution_count": null,
      "outputs": [
        {
          "output_type": "execute_result",
          "data": {
            "text/plain": [
              "Ticker\n",
              "AMZN    186.570496\n",
              "GOOG    149.684662\n",
              "dtype: float64"
            ],
            "text/html": [
              "<div>\n",
              "<style scoped>\n",
              "    .dataframe tbody tr th:only-of-type {\n",
              "        vertical-align: middle;\n",
              "    }\n",
              "\n",
              "    .dataframe tbody tr th {\n",
              "        vertical-align: top;\n",
              "    }\n",
              "\n",
              "    .dataframe thead th {\n",
              "        text-align: right;\n",
              "    }\n",
              "</style>\n",
              "<table border=\"1\" class=\"dataframe\">\n",
              "  <thead>\n",
              "    <tr style=\"text-align: right;\">\n",
              "      <th></th>\n",
              "      <th>0</th>\n",
              "    </tr>\n",
              "    <tr>\n",
              "      <th>Ticker</th>\n",
              "      <th></th>\n",
              "    </tr>\n",
              "  </thead>\n",
              "  <tbody>\n",
              "    <tr>\n",
              "      <th>AMZN</th>\n",
              "      <td>186.570496</td>\n",
              "    </tr>\n",
              "    <tr>\n",
              "      <th>GOOG</th>\n",
              "      <td>149.684662</td>\n",
              "    </tr>\n",
              "  </tbody>\n",
              "</table>\n",
              "</div><br><label><b>dtype:</b> float64</label>"
            ]
          },
          "metadata": {},
          "execution_count": 34
        }
      ]
    },
    {
      "cell_type": "code",
      "execution_count": null,
      "id": "f2fa0949",
      "metadata": {
        "id": "f2fa0949",
        "colab": {
          "base_uri": "https://localhost:8080/",
          "height": 718
        },
        "outputId": "e1c89330-8914-4f82-eda0-66163ad04286"
      },
      "outputs": [
        {
          "output_type": "display_data",
          "data": {
            "text/plain": [
              "<Figure size 1200x800 with 1 Axes>"
            ],
            "image/png": "[encoded data removed]"
          },
          "metadata": {}
        }
      ],
      "source": [
        "#plot the result\n",
        "train=data[:train_data_len]\n",
        "valid=data[train_data_len:]\n",
        "valid=valid.assign(Predictions=predictions)\n",
        "plt.figure(figsize=(12,8))\n",
        "plt.title('Model')\n",
        "plt.xlabel('Date')\n",
        "plt.ylabel('Stock Price ($)')\n",
        "plt.plot(train, lw=1)\n",
        "plt.plot(valid[['AMZN','Predictions']], lw=1)\n",
        "plt.legend(['Train-AMZN','Train-GOOG', 'Validation', 'Prediction'],loc='lower right')\n",
        "plt.show()"
      ]
    },
    {
      "cell_type": "code",
      "execution_count": null,
      "id": "5a077d2e",
      "metadata": {
        "id": "5a077d2e",
        "colab": {
          "base_uri": "https://localhost:8080/",
          "height": 693
        },
        "outputId": "8db713a1-7973-4763-f9da-83785921c3a5"
      },
      "outputs": [
        {
          "output_type": "execute_result",
          "data": {
            "text/plain": [
              "<matplotlib.legend.Legend at 0x7a0607b159a0>"
            ]
          },
          "metadata": {},
          "execution_count": 36
        },
        {
          "output_type": "display_data",
          "data": {
            "text/plain": [
              "<Figure size 1200x800 with 1 Axes>"
            ],
            "image/png": "[encoded data removed]"
          },
          "metadata": {}
        }
      ],
      "source": [
        "plt.figure(figsize=(12,8))\n",
        "plt.plot(valid[['AMZN','Predictions']], lw=1)\n",
        "plt.legend(['Validation', 'Prediction'])"
      ]
    },
    {
      "cell_type": "markdown",
      "id": "dac861c9",
      "metadata": {
        "id": "dac861c9"
      },
      "source": [
        "# Discusion"
      ]
    }
  ],
  "metadata": {
    "kernelspec": {
      "display_name": "Python 3",
      "name": "python3"
    },
    "language_info": {
      "codemirror_mode": {
        "name": "ipython",
        "version": 3
      },
      "file_extension": ".py",
      "mimetype": "text/x-python",
      "name": "python",
      "nbconvert_exporter": "python",
      "pygments_lexer": "ipython3",
      "version": "3.9.7"
    },
    "colab": {
      "provenance": [],
      "gpuType": "T4"
    },
    "accelerator": "GPU"
  },
  "nbformat": 4,
  "nbformat_minor": 5
}